{
 "cells": [
  {
   "cell_type": "code",
   "execution_count": 1,
   "id": "f95535f6",
   "metadata": {},
   "outputs": [],
   "source": [
    "# \n",
    "#GROUP 4 - SNELL FAMILY FARM\n",
    "#Data questions:\n",
    "\n",
    "#1) What is the pricing trend over the past couple of years?\n",
    "\n",
    "#2) Has the pandemic impacted drug costs?\n",
    "\n",
    "#3) Are some models more accurate at predicting drug cost than others?\n",
    "\n",
    "#Methods of analysis:\n",
    "\n",
    "#Time series: ARIMA (X), LSTM, exponential smoothing, ARCH GARCH, Prophet\n",
    "\n",
    "#Other : Association Rule mining, Clustering, Decision tree, Word cloud\n",
    "\n",
    "#Predictive Models : Naiive bayes , SVM\n",
    "\n"
   ]
  },
  {
   "cell_type": "code",
   "execution_count": 2,
   "id": "896d0511",
   "metadata": {},
   "outputs": [],
   "source": [
    "#IMPORT LIBRRARIES :import packages for analysis and modeling\n",
    "\n",
    "import pandas as pd  # data frame operations\n",
    "import numpy as np  # arrays and math functions\n",
    "from scipy.stats import uniform  # for training-and-test split\n",
    "import statsmodels.api as sm  # statistical models (including regression)\n",
    "import statsmodels.formula.api as smf  # R-like model specification\n",
    "from statsmodels.graphics.tsaplots import plot_acf\n",
    "from statsmodels.graphics.tsaplots import plot_pacf\n",
    "from statsmodels.tsa.stattools import adfuller\n",
    "import matplotlib.pyplot as plt  # 2D plotting\n",
    "from seaborn import palettes\n",
    "%matplotlib inline\n",
    "\n",
    "import seaborn as sns  # PROVIDES TRELLIS AND SMALL MULTIPLE PLOTTING\n",
    "import requests\n",
    "import json\n"
   ]
  },
  {
   "cell_type": "code",
   "execution_count": 3,
   "id": "de0f2474",
   "metadata": {},
   "outputs": [
    {
     "data": {
      "text/html": [
       "<div>\n",
       "<style scoped>\n",
       "    .dataframe tbody tr th:only-of-type {\n",
       "        vertical-align: middle;\n",
       "    }\n",
       "\n",
       "    .dataframe tbody tr th {\n",
       "        vertical-align: top;\n",
       "    }\n",
       "\n",
       "    .dataframe thead th {\n",
       "        text-align: right;\n",
       "    }\n",
       "</style>\n",
       "<table border=\"1\" class=\"dataframe\">\n",
       "  <thead>\n",
       "    <tr style=\"text-align: right;\">\n",
       "      <th></th>\n",
       "      <th>Brnd_Name</th>\n",
       "      <th>Gnrc_Name</th>\n",
       "      <th>Tot_Mftr</th>\n",
       "      <th>Mftr_Name</th>\n",
       "      <th>Tot_Spndng_2016</th>\n",
       "      <th>Tot_Dsg_Unts_2016</th>\n",
       "      <th>Tot_Clms_2016</th>\n",
       "      <th>Avg_Spnd_Per_Dsg_Unt_Wghtd_2016</th>\n",
       "      <th>Avg_Spnd_Per_Clm_2016</th>\n",
       "      <th>Outlier_Flag_2016</th>\n",
       "      <th>...</th>\n",
       "      <th>Avg_Spnd_Per_Clm_2019</th>\n",
       "      <th>Outlier_Flag_2019</th>\n",
       "      <th>Tot_Spndng_2020</th>\n",
       "      <th>Tot_Dsg_Unts_2020</th>\n",
       "      <th>Tot_Clms_2020</th>\n",
       "      <th>Avg_Spnd_Per_Dsg_Unt_Wghtd_2020</th>\n",
       "      <th>Avg_Spnd_Per_Clm_2020</th>\n",
       "      <th>Outlier_Flag_2020</th>\n",
       "      <th>Chg_Avg_Spnd_Per_Dsg_Unt_19_20</th>\n",
       "      <th>CAGR_Avg_Spnd_Per_Dsg_Unt_16_20</th>\n",
       "    </tr>\n",
       "  </thead>\n",
       "  <tbody>\n",
       "    <tr>\n",
       "      <th>0</th>\n",
       "      <td>8hr Arthritis Pain</td>\n",
       "      <td>Acetaminophen</td>\n",
       "      <td>1</td>\n",
       "      <td>Overall</td>\n",
       "      <td></td>\n",
       "      <td></td>\n",
       "      <td></td>\n",
       "      <td></td>\n",
       "      <td></td>\n",
       "      <td></td>\n",
       "      <td>...</td>\n",
       "      <td>5.054640884</td>\n",
       "      <td>1</td>\n",
       "      <td>433.73</td>\n",
       "      <td>4600</td>\n",
       "      <td>49</td>\n",
       "      <td>0.0942891304</td>\n",
       "      <td>8.8516326531</td>\n",
       "      <td>1</td>\n",
       "      <td>0.5170523232</td>\n",
       "      <td>0.5170523232</td>\n",
       "    </tr>\n",
       "    <tr>\n",
       "      <th>1</th>\n",
       "      <td>8hr Arthritis Pain</td>\n",
       "      <td>Acetaminophen</td>\n",
       "      <td>1</td>\n",
       "      <td>Topco</td>\n",
       "      <td></td>\n",
       "      <td></td>\n",
       "      <td></td>\n",
       "      <td></td>\n",
       "      <td></td>\n",
       "      <td></td>\n",
       "      <td>...</td>\n",
       "      <td>5.054640884</td>\n",
       "      <td>1</td>\n",
       "      <td>433.73</td>\n",
       "      <td>4600</td>\n",
       "      <td>49</td>\n",
       "      <td>0.0942891304</td>\n",
       "      <td>8.8516326531</td>\n",
       "      <td>1</td>\n",
       "      <td>0.5170523232</td>\n",
       "      <td>0.5170523232</td>\n",
       "    </tr>\n",
       "    <tr>\n",
       "      <th>2</th>\n",
       "      <td>A &amp; D</td>\n",
       "      <td>Vitamins A And D</td>\n",
       "      <td>1</td>\n",
       "      <td>Overall</td>\n",
       "      <td>470.91</td>\n",
       "      <td>7992.4</td>\n",
       "      <td>49</td>\n",
       "      <td>0.0589197237</td>\n",
       "      <td>9.6104081633</td>\n",
       "      <td>1</td>\n",
       "      <td>...</td>\n",
       "      <td>6.3661983471</td>\n",
       "      <td>1</td>\n",
       "      <td>322.51</td>\n",
       "      <td>15751.8</td>\n",
       "      <td>41</td>\n",
       "      <td>0.0204744855</td>\n",
       "      <td>7.866097561</td>\n",
       "      <td>1</td>\n",
       "      <td>1.1920761057</td>\n",
       "      <td>-0.232217739</td>\n",
       "    </tr>\n",
       "    <tr>\n",
       "      <th>3</th>\n",
       "      <td>A &amp; D</td>\n",
       "      <td>Vitamins A And D</td>\n",
       "      <td>1</td>\n",
       "      <td>Schering-Plough</td>\n",
       "      <td>470.91</td>\n",
       "      <td>7992.4</td>\n",
       "      <td>49</td>\n",
       "      <td>0.0589197237</td>\n",
       "      <td>9.6104081633</td>\n",
       "      <td>1</td>\n",
       "      <td>...</td>\n",
       "      <td>6.3661983471</td>\n",
       "      <td>1</td>\n",
       "      <td>322.51</td>\n",
       "      <td>15751.8</td>\n",
       "      <td>41</td>\n",
       "      <td>0.0204744855</td>\n",
       "      <td>7.866097561</td>\n",
       "      <td>1</td>\n",
       "      <td>0.3644461734</td>\n",
       "      <td>-0.232217739</td>\n",
       "    </tr>\n",
       "    <tr>\n",
       "      <th>4</th>\n",
       "      <td>A And D</td>\n",
       "      <td>Vits A And D/White Pet/Lanolin</td>\n",
       "      <td>1</td>\n",
       "      <td>Overall</td>\n",
       "      <td></td>\n",
       "      <td></td>\n",
       "      <td></td>\n",
       "      <td></td>\n",
       "      <td></td>\n",
       "      <td></td>\n",
       "      <td>...</td>\n",
       "      <td>4.6682352941</td>\n",
       "      <td>1</td>\n",
       "      <td>138.49</td>\n",
       "      <td>1483.5</td>\n",
       "      <td>19</td>\n",
       "      <td>0.0933535558</td>\n",
       "      <td>7.2889473684</td>\n",
       "      <td>1</td>\n",
       "      <td>0.2963157569</td>\n",
       "      <td>-0.069870597</td>\n",
       "    </tr>\n",
       "  </tbody>\n",
       "</table>\n",
       "<p>5 rows × 36 columns</p>\n",
       "</div>"
      ],
      "text/plain": [
       "            Brnd_Name                       Gnrc_Name Tot_Mftr  \\\n",
       "0  8hr Arthritis Pain                   Acetaminophen        1   \n",
       "1  8hr Arthritis Pain                   Acetaminophen        1   \n",
       "2               A & D                Vitamins A And D        1   \n",
       "3               A & D                Vitamins A And D        1   \n",
       "4             A And D  Vits A And D/White Pet/Lanolin        1   \n",
       "\n",
       "         Mftr_Name Tot_Spndng_2016 Tot_Dsg_Unts_2016 Tot_Clms_2016  \\\n",
       "0          Overall                                                   \n",
       "1            Topco                                                   \n",
       "2          Overall          470.91            7992.4            49   \n",
       "3  Schering-Plough          470.91            7992.4            49   \n",
       "4          Overall                                                   \n",
       "\n",
       "  Avg_Spnd_Per_Dsg_Unt_Wghtd_2016 Avg_Spnd_Per_Clm_2016 Outlier_Flag_2016  \\\n",
       "0                                                                           \n",
       "1                                                                           \n",
       "2                    0.0589197237          9.6104081633                 1   \n",
       "3                    0.0589197237          9.6104081633                 1   \n",
       "4                                                                           \n",
       "\n",
       "   ... Avg_Spnd_Per_Clm_2019 Outlier_Flag_2019 Tot_Spndng_2020  \\\n",
       "0  ...           5.054640884                 1          433.73   \n",
       "1  ...           5.054640884                 1          433.73   \n",
       "2  ...          6.3661983471                 1          322.51   \n",
       "3  ...          6.3661983471                 1          322.51   \n",
       "4  ...          4.6682352941                 1          138.49   \n",
       "\n",
       "  Tot_Dsg_Unts_2020 Tot_Clms_2020 Avg_Spnd_Per_Dsg_Unt_Wghtd_2020  \\\n",
       "0              4600            49                    0.0942891304   \n",
       "1              4600            49                    0.0942891304   \n",
       "2           15751.8            41                    0.0204744855   \n",
       "3           15751.8            41                    0.0204744855   \n",
       "4            1483.5            19                    0.0933535558   \n",
       "\n",
       "  Avg_Spnd_Per_Clm_2020 Outlier_Flag_2020 Chg_Avg_Spnd_Per_Dsg_Unt_19_20  \\\n",
       "0          8.8516326531                 1                   0.5170523232   \n",
       "1          8.8516326531                 1                   0.5170523232   \n",
       "2           7.866097561                 1                   1.1920761057   \n",
       "3           7.866097561                 1                   0.3644461734   \n",
       "4          7.2889473684                 1                   0.2963157569   \n",
       "\n",
       "  CAGR_Avg_Spnd_Per_Dsg_Unt_16_20  \n",
       "0                    0.5170523232  \n",
       "1                    0.5170523232  \n",
       "2                    -0.232217739  \n",
       "3                    -0.232217739  \n",
       "4                    -0.069870597  \n",
       "\n",
       "[5 rows x 36 columns]"
      ]
     },
     "execution_count": 3,
     "metadata": {},
     "output_type": "execute_result"
    }
   ],
   "source": [
    "# OBTAIN: Pharmacy Data (potential 1 )\n",
    "\n",
    "# New Market Drugs:\n",
    "#-----------------\n",
    "# Prescription Drugs introduced to the Market (https://data.chhs.ca.gov/dataset/prescription-drugs-introduced-to-market)\n",
    "# The table represents new prescription drugs introduced to market in California with a Wholesale Acquisition Cost (WAC) that exceeds the Medicare Part D specialty drug cost threshold\n",
    "\n",
    "dfNewRx2022 = pd.read_excel('https://data.chhs.ca.gov/dataset/e54d331c-65d3-4c6e-b4ba-390bd7024248/resource/eded767c-4651-46d6-8b40-d34db9560091/download/newdrugdata-mar2022.xlsx')\n",
    "dfNewRx2021 = pd.read_excel('https://data.chhs.ca.gov/dataset/e54d331c-65d3-4c6e-b4ba-390bd7024248/resource/ba710f43-749d-4c6f-b105-28845cd742b7/download/ctrx-new-drug-report-2021-q1-q2-q3.xlsx')\n",
    "dfNewRx2020 = pd.read_excel('https://data.chhs.ca.gov/dataset/e54d331c-65d3-4c6e-b4ba-390bd7024248/resource/9a37709e-4151-4300-a031-91ea7813da60/download/ctrx-new-drug-report-2020-q1-q2-q3-q4.xlsx')\n",
    "dfNewRx2019 = pd.read_excel('https://data.chhs.ca.gov/dataset/e54d331c-65d3-4c6e-b4ba-390bd7024248/resource/6393cda0-6101-424e-b738-07aee9e6f94f/download/ctrx-new-drug-report-2019-q1-q2-q3-q4.xlsx')\n",
    "\n",
    "# Medicare Part D Spending by Drug:\n",
    "#------------------------------------\n",
    "# Data dictionary: https://data.cms.gov/resources/medicare-part-d-spending-by-drug-data-dictionary\n",
    "# import requests\n",
    "# import json\n",
    "medicareRx = requests.get('https://data.cms.gov/data-api/v1/dataset/54426646-2108-48e7-a339-730dcfabbe9a/data').json()\n",
    "medicareRx=pd.json_normalize(medicareRx)\n",
    "medicareRx.head()\n",
    "\n",
    "# Medicaid :\n",
    "#------------------------------------\n",
    "#website location: https://data.cms.gov/summary-statistics-on-use-and-payments/medicare-medicaid-spending-by-drug/medicaid-spending-by-drug\n",
    "# data dictionary: https://data.cms.gov/resources/medicaid-spending-by-drug-data-dictionary\n",
    "\n",
    "medicaidRx = requests.get('https://data.cms.gov/data-api/v1/dataset/fa5241b2-a4f9-45e5-8d73-8a29424b6598/data').json()\n",
    "medicaidRx=pd.json_normalize(medicaidRx)\n",
    "medicaidRx.head()\n"
   ]
  },
  {
   "cell_type": "code",
   "execution_count": 4,
   "id": "92d0ecf9",
   "metadata": {},
   "outputs": [],
   "source": [
    "# Time Series\n",
    "# New Drug Introduced into the Market Data Set:"
   ]
  },
  {
   "cell_type": "code",
   "execution_count": 5,
   "id": "f6c08ebf",
   "metadata": {},
   "outputs": [
    {
     "name": "stdout",
     "output_type": "stream",
     "text": [
      "<class 'pandas.core.frame.DataFrame'>\n",
      "Int64Index: 974 entries, 0 to 314\n",
      "Data columns (total 10 columns):\n",
      " #   Column        Non-Null Count  Dtype  \n",
      "---  ------        --------------  -----  \n",
      " 0   Manufacturer  974 non-null    object \n",
      " 1   NDC           974 non-null    object \n",
      " 2   ProdDesc      973 non-null    object \n",
      " 3   Date          974 non-null    object \n",
      " 4   WAC           974 non-null    float64\n",
      " 5   PlanDesc      466 non-null    object \n",
      " 6   PlanFlag      509 non-null    object \n",
      " 7   EstNoPat      773 non-null    object \n",
      " 8   TherapyFlag   149 non-null    object \n",
      " 9   ReviewFlag    232 non-null    float64\n",
      "dtypes: float64(2), object(8)\n",
      "memory usage: 83.7+ KB\n"
     ]
    }
   ],
   "source": [
    "#SCRUB - New Drug Dataset\n",
    "\n",
    "#consolidate columns\n",
    "newMktRx =[dfNewRx2022,dfNewRx2021,dfNewRx2020,dfNewRx2019]\n",
    "newMktRx=pd.concat(newMktRx)\n",
    "#print(newMktRx.info())\n",
    "\n",
    "#rename column\n",
    "newMktRx.rename(columns = {'Manufacturer Name':'Manufacturer',\\\n",
    "                           'NDC Number':'NDC',\\\n",
    "                           'Drug Product Description':'ProdDesc',\\\n",
    "                           'Date Introduced to Market':'Date',\\\n",
    "                           'WAC at Introduction':'WAC',\\\n",
    "                           'Marketing/Pricing Plan Description':'PlanDesc',\\\n",
    "                           'Estimated Number of Patients':'EstNoPat',\\\n",
    "                           'Breakthrough Therapy Indicator':'TherapyFlag',\\\n",
    "                           'Marketing/Pricing Plan Non-Public Indicator':'PlanFlag',\\\n",
    "                           'Priority Review Indicator':'ReviewFlag'},inplace=True)\n",
    "\n",
    "#set NDC as string instead of numeric\n",
    "newMktRx.NDC = newMktRx.NDC.astype(str)\n",
    "\n",
    "# drop unecessary columns\n",
    "newMktRx = newMktRx.drop(['Acquisition Date','Acquisition Price','Acquisition Price Non-Public Indicator',\\\n",
    "                          'Acquisition Price Comment','General Comments','Supporting Documents',\\\n",
    "                          'Unnamed: 16','Unnamed: 17','Unnamed: 18',\\\n",
    "                          'Unnamed: 19','Unnamed: 20','Unnamed: 21',\\\n",
    "                          'Unnamed: 22','Unnamed: 23','Unnamed: 24',\\\n",
    "                          'Unnamed: 25','Unnamed: 26','Unnamed: 27',\\\n",
    "                          'Unnamed: 28','Unnamed: 29'],axis=1)\n",
    "newMktRx.info()"
   ]
  },
  {
   "cell_type": "code",
   "execution_count": 6,
   "id": "57069dbb",
   "metadata": {},
   "outputs": [
    {
     "name": "stdout",
     "output_type": "stream",
     "text": [
      "New Drug Missing Data:\n",
      "\n",
      "Manufacturer - 0%\n",
      "NDC - 0%\n",
      "ProdDesc - 0%\n",
      "Date - 0%\n",
      "WAC - 0%\n",
      "PlanDesc - 52%\n",
      "PlanFlag - 48%\n",
      "EstNoPat - 21%\n",
      "TherapyFlag - 85%\n",
      "ReviewFlag - 76%\n"
     ]
    }
   ],
   "source": [
    "#SCRUB - Determine % of missing data\n",
    "\n",
    "# Checking for missing data:\n",
    "\n",
    "print('New Drug Missing Data:\\n')\n",
    "for col in newMktRx.columns:\n",
    "    pct_missing = np.mean(newMktRx[col].isnull())\n",
    "    print('{} - {}%'.format(col, round(pct_missing*100)))\n",
    "\n",
    "# Plan Description, Plan Flag, Breakthrough Therapy Flag and Review Flag have more than 50% missing values \n",
    "# Estimated Number of Patients have approximately 22% missing data"
   ]
  },
  {
   "cell_type": "code",
   "execution_count": 7,
   "id": "67021a5b",
   "metadata": {},
   "outputs": [
    {
     "name": "stdout",
     "output_type": "stream",
     "text": [
      "Teva Pharmaceuticals USA                  67\n",
      "Amneal Pharmaceuticals                    45\n",
      "SUN PHARMACEUTICALS                       36\n",
      "Dr. Reddy's Laboratories, Inc.            33\n",
      "PureTek Corporation                       27\n",
      "                                          ..\n",
      "Neurocrine Biosciences, Inc.               1\n",
      "Myovant Sciences Inc.                      1\n",
      "Mitsubishi Tanabe Pharma America, Inc.     1\n",
      "Mirum Pharmaceuticals                      1\n",
      "Coherus BioSciences, Inc.                  1\n",
      "Name: Manufacturer, Length: 199, dtype: int64\n"
     ]
    },
    {
     "name": "stderr",
     "output_type": "stream",
     "text": [
      "C:\\Users\\nickl\\AppData\\Roaming\\Python\\Python39\\site-packages\\seaborn\\categorical.py:3717: UserWarning: The `factorplot` function has been renamed to `catplot`. The original name will be removed in a future release. Please update your code. Note that the default `kind` in `factorplot` (`'point'`) has changed `'strip'` in `catplot`.\n",
      "  warnings.warn(msg)\n"
     ]
    },
    {
     "data": {
      "text/plain": [
       "<seaborn.axisgrid.FacetGrid at 0x256b22ca880>"
      ]
     },
     "execution_count": 7,
     "metadata": {},
     "output_type": "execute_result"
    },
    {
     "data": {
      "image/png": "[encoded data removed]",
      "text/plain": [
       "<Figure size 1440x360 with 1 Axes>"
      ]
     },
     "metadata": {
      "needs_background": "light"
     },
     "output_type": "display_data"
    }
   ],
   "source": [
    "# EXPLORE:\n",
    "\n",
    "#count unique NDC code by Manufacturing company:\n",
    "print(pd.value_counts(newMktRx['Manufacturer']))\n",
    "df=newMktRx.groupby('Manufacturer')['NDC'].nunique()\n",
    "df=pd.DataFrame(df)\n",
    "#df.describe(include='all')\n",
    "\n",
    "#top 10:\n",
    "df['Manufacturer'] = df.index\n",
    "toprx=df.nlargest(10,'NDC')  #explore manufaturing company with highest NDC count\n",
    "\n",
    "#graph:\n",
    "g= sns.factorplot(x='NDC', y='Manufacturer',  kind='bar',color='orange',data=toprx)\n",
    "g.fig.set_size_inches(20,5)\n",
    "plt.title('Top 10 Unique NDC count - 2019 - Mar2022:',pad=10, fontsize=15)\n",
    "g.set_xlabels('NDC Unique count')\n",
    "g.set_ylabels('Manufacturer')\n"
   ]
  },
  {
   "cell_type": "code",
   "execution_count": 8,
   "id": "0c816dc2",
   "metadata": {},
   "outputs": [
    {
     "name": "stdout",
     "output_type": "stream",
     "text": [
      "<class 'pandas.core.frame.DataFrame'>\n",
      "DatetimeIndex: 974 entries, 2022-02-22 to 2019-10-15\n",
      "Data columns (total 3 columns):\n",
      " #   Column        Non-Null Count  Dtype  \n",
      "---  ------        --------------  -----  \n",
      " 0   Manufacturer  974 non-null    object \n",
      " 1   NDC           974 non-null    object \n",
      " 2   WAC           974 non-null    float64\n",
      "dtypes: float64(1), object(2)\n",
      "memory usage: 30.4+ KB\n"
     ]
    }
   ],
   "source": [
    "rx = newMktRx\n",
    "rx = rx.set_index('Date')\n",
    "rx.index = pd.to_datetime(rx.index) #set index to datetime\n",
    "rx=rx.drop(['ProdDesc','PlanDesc','PlanFlag','EstNoPat','TherapyFlag','ReviewFlag'],axis=1)\n",
    "rx.info()"
   ]
  },
  {
   "cell_type": "code",
   "execution_count": 9,
   "id": "367b3fa6",
   "metadata": {},
   "outputs": [
    {
     "data": {
      "image/png": "[encoded data removed]",
      "text/plain": [
       "<Figure size 720x576 with 3 Axes>"
      ]
     },
     "metadata": {},
     "output_type": "display_data"
    },
    {
     "name": "stdout",
     "output_type": "stream",
     "text": [
      "Empty DataFrame\n",
      "Columns: []\n",
      "Index: []\n",
      "<pandas.core.groupby.generic.DataFrameGroupBy object at 0x00000256B24DC0D0>\n"
     ]
    }
   ],
   "source": [
    "# EXPLORE - Looking at RX introduction across the years\n",
    "\n",
    "#set model to be NDC count or WAC median\n",
    "rxc=rx.groupby('Date')['NDC'].nunique()\n",
    "rxm=rx.groupby('Date')['WAC'].median()\n",
    "\n",
    "#set graph model \n",
    "rx1 = rxm\n",
    "rx1=pd.DataFrame(rx1)\n",
    "\n",
    "sns.set(rc={'figure.figsize':(10,8)})\n",
    "groups = rx1['2019':'2021'].groupby(pd.Grouper(freq=('A')))\n",
    "years = pd.DataFrame()\n",
    "plt.figure()\n",
    "i = 1\n",
    "n_groups = len(groups)\n",
    "for name, group in groups:\n",
    "\tplt.subplot((n_groups*100) + 10 + i)\n",
    "\ti += 1\n",
    "\tplt.plot(group)\n",
    "plt.show()\n",
    "print(years)\n",
    "print(groups)"
   ]
  },
  {
   "cell_type": "code",
   "execution_count": 10,
   "id": "16314bb1",
   "metadata": {},
   "outputs": [
    {
     "data": {
      "text/plain": [
       "Text(0.5, 1.0, 'WAC of Manufacturers Over Time')"
      ]
     },
     "execution_count": 10,
     "metadata": {},
     "output_type": "execute_result"
    },
    {
     "data": {
      "image/png": "[encoded data removed]",
      "text/plain": [
       "<Figure size 720x576 with 1 Axes>"
      ]
     },
     "metadata": {},
     "output_type": "display_data"
    }
   ],
   "source": [
    "wac_by_manufacturer=rx.groupby(['Date', 'Manufacturer'])['WAC'].median().reset_index()\n",
    "wac_by_manufacturer = wac_by_manufacturer.pivot(index=\"Date\", columns=\"Manufacturer\", values=\"WAC\")\n",
    "\n",
    "for manufacturer in ['Teva Pharmaceuticals USA', 'Amneal Pharmaceuticals', 'SUN PHARMACEUTICALS' ]:\n",
    "  plt.plot(wac_by_manufacturer[manufacturer].dropna(), linestyle='-',marker='o')\n",
    "\n",
    "plt.xlabel(\"Date\")\n",
    "plt.ylabel(\"WAC\")\n",
    "plt.legend(['Teva Pharmaceuticals USA', 'Amneal Pharmaceuticals', 'SUN PHARMACEUTICALS' ])\n",
    "plt.title(\"WAC of Manufacturers Over Time\")"
   ]
  },
  {
   "cell_type": "code",
   "execution_count": 11,
   "id": "05e498dd",
   "metadata": {},
   "outputs": [
    {
     "name": "stdout",
     "output_type": "stream",
     "text": [
      "ADF Statistic: -19.419949\n",
      "p-value: 0.000000\n",
      "Critical Values:\n",
      "\t1%: -3.447\n",
      "\t5%: -2.869\n",
      "\t10%: -2.571\n"
     ]
    }
   ],
   "source": [
    "# EXPLORE - ADF\n",
    "# IS OUR TIME SERIES STATIONARY OR NOT?\n",
    "\n",
    "result = adfuller(rxc, autolag='AIC')\n",
    "\n",
    "print('ADF Statistic: %f' % result[0])\n",
    "print('p-value: %f' % result[1])\n",
    "print('Critical Values:')\n",
    "for key, value in result[4].items():\n",
    "\tprint('\\t%s: %.3f' % (key, value))"
   ]
  },
  {
   "cell_type": "code",
   "execution_count": 12,
   "id": "d5f755bc",
   "metadata": {},
   "outputs": [
    {
     "name": "stdout",
     "output_type": "stream",
     "text": [
      "Manufacturer     object\n",
      "WAC             float64\n",
      "NDC             float64\n",
      "dtype: object\n",
      "                                 Manufacturer       WAC           NDC\n",
      "Date                                                                 \n",
      "2022-02-22              Aadi Bioscience, Inc.   6785.00  8.080302e+10\n",
      "2022-01-24                             AbbVie   5671.26  7.423103e+07\n",
      "2022-03-23                             AbbVie  10586.24  7.410433e+07\n",
      "2022-04-05             Accord BioPharma, Inc.   3900.00  6.944800e+10\n",
      "2022-03-23  Advanced Accelerator Applications  42500.00  6.694800e+10\n",
      "...                                       ...       ...           ...\n",
      "2019-09-16      Granules Pharmaceuticals Inc.    213.81  7.001000e+10\n",
      "2019-09-19      Granules Pharmaceuticals Inc.    322.93  7.001000e+10\n",
      "2019-05-16      Granules Pharmaceuticals Inc.     55.44  7.001000e+10\n",
      "2019-05-16      Granules Pharmaceuticals Inc.     57.11  7.001000e+10\n",
      "2019-10-15      Granules Pharmaceuticals Inc.    465.50  7.001000e+10\n",
      "\n",
      "[974 rows x 3 columns]\n"
     ]
    }
   ],
   "source": [
    "rpx =pd.DataFrame(rx, columns=['Manufacturer','WAC', 'NDC'])\n",
    "rpx['NDC'] = rpx['NDC'].astype(float) #convert string to numeric\n",
    "print(rpx.dtypes)\n",
    "print(rpx)"
   ]
  },
  {
   "cell_type": "code",
   "execution_count": 13,
   "id": "213b3317",
   "metadata": {},
   "outputs": [
    {
     "name": "stdout",
     "output_type": "stream",
     "text": [
      "X_train shape: (730, 1)\n",
      "y_train shape: (730,)\n"
     ]
    }
   ],
   "source": [
    "#create train and test sets\n",
    "from sklearn.model_selection import train_test_split\n",
    "\n",
    "x1 = rpx[['WAC']]\n",
    "\n",
    "y1 = rpx['Manufacturer']\n",
    "\n",
    "\n",
    "X_train, X_test, y_train, y_test = train_test_split(\n",
    "    x1, y1, test_size=0.25, random_state = 50)\n",
    "\n",
    "#total rows in train sets\n",
    "print(\"X_train shape:\",X_train.shape)\n",
    "print(\"y_train shape:\",y_train.shape)"
   ]
  },
  {
   "cell_type": "code",
   "execution_count": 14,
   "id": "fab9c8f9",
   "metadata": {},
   "outputs": [
    {
     "name": "stdout",
     "output_type": "stream",
     "text": [
      "WAC    float64\n",
      "dtype: object\n"
     ]
    }
   ],
   "source": [
    "print(X_train.dtypes)"
   ]
  },
  {
   "cell_type": "code",
   "execution_count": 15,
   "id": "95b70e62",
   "metadata": {},
   "outputs": [
    {
     "name": "stdout",
     "output_type": "stream",
     "text": [
      "X_test shape: (244, 1)\n",
      "y_test shape: (244,)\n"
     ]
    }
   ],
   "source": [
    "#total rows in test sets\n",
    "print(\"X_test shape:\",X_test.shape)\n",
    "print(\"y_test shape:\",y_test.shape)"
   ]
  },
  {
   "cell_type": "code",
   "execution_count": 16,
   "id": "6f3b1330",
   "metadata": {},
   "outputs": [
    {
     "data": {
      "text/html": [
       "<div>\n",
       "<style scoped>\n",
       "    .dataframe tbody tr th:only-of-type {\n",
       "        vertical-align: middle;\n",
       "    }\n",
       "\n",
       "    .dataframe tbody tr th {\n",
       "        vertical-align: top;\n",
       "    }\n",
       "\n",
       "    .dataframe thead th {\n",
       "        text-align: right;\n",
       "    }\n",
       "</style>\n",
       "<table border=\"1\" class=\"dataframe\">\n",
       "  <thead>\n",
       "    <tr style=\"text-align: right;\">\n",
       "      <th></th>\n",
       "      <th>Manufacturer</th>\n",
       "      <th>WAC</th>\n",
       "      <th>NDC</th>\n",
       "    </tr>\n",
       "    <tr>\n",
       "      <th>Date</th>\n",
       "      <th></th>\n",
       "      <th></th>\n",
       "      <th></th>\n",
       "    </tr>\n",
       "  </thead>\n",
       "  <tbody>\n",
       "    <tr>\n",
       "      <th>2022-02-22</th>\n",
       "      <td>Aadi Bioscience, Inc.</td>\n",
       "      <td>6785.00</td>\n",
       "      <td>8.080302e+10</td>\n",
       "    </tr>\n",
       "    <tr>\n",
       "      <th>2022-01-24</th>\n",
       "      <td>AbbVie</td>\n",
       "      <td>5671.26</td>\n",
       "      <td>7.423103e+07</td>\n",
       "    </tr>\n",
       "    <tr>\n",
       "      <th>2022-03-23</th>\n",
       "      <td>AbbVie</td>\n",
       "      <td>10586.24</td>\n",
       "      <td>7.410433e+07</td>\n",
       "    </tr>\n",
       "    <tr>\n",
       "      <th>2022-04-05</th>\n",
       "      <td>Accord BioPharma, Inc.</td>\n",
       "      <td>3900.00</td>\n",
       "      <td>6.944800e+10</td>\n",
       "    </tr>\n",
       "    <tr>\n",
       "      <th>2022-03-23</th>\n",
       "      <td>Advanced Accelerator Applications</td>\n",
       "      <td>42500.00</td>\n",
       "      <td>6.694800e+10</td>\n",
       "    </tr>\n",
       "  </tbody>\n",
       "</table>\n",
       "</div>"
      ],
      "text/plain": [
       "                                 Manufacturer       WAC           NDC\n",
       "Date                                                                 \n",
       "2022-02-22              Aadi Bioscience, Inc.   6785.00  8.080302e+10\n",
       "2022-01-24                             AbbVie   5671.26  7.423103e+07\n",
       "2022-03-23                             AbbVie  10586.24  7.410433e+07\n",
       "2022-04-05             Accord BioPharma, Inc.   3900.00  6.944800e+10\n",
       "2022-03-23  Advanced Accelerator Applications  42500.00  6.694800e+10"
      ]
     },
     "execution_count": 16,
     "metadata": {},
     "output_type": "execute_result"
    }
   ],
   "source": [
    "rpx.head() "
   ]
  },
  {
   "cell_type": "code",
   "execution_count": 17,
   "id": "3f1bd148",
   "metadata": {},
   "outputs": [],
   "source": [
    "##create dataframe from data in X_train\n",
    "#label the columns using the strings Manufacturer\n",
    "rx_df = pd.DataFrame(X_train, columns=rpx.Manufacturer)"
   ]
  },
  {
   "cell_type": "code",
   "execution_count": 18,
   "id": "70dfdd97",
   "metadata": {},
   "outputs": [
    {
     "name": "stdout",
     "output_type": "stream",
     "text": [
      "Manufacturer\n",
      "Aadi Bioscience, Inc.                float64\n",
      "AbbVie                               float64\n",
      "AbbVie                               float64\n",
      "Accord BioPharma, Inc.               float64\n",
      "Advanced Accelerator Applications    float64\n",
      "                                      ...   \n",
      "Granules Pharmaceuticals Inc.        float64\n",
      "Granules Pharmaceuticals Inc.        float64\n",
      "Granules Pharmaceuticals Inc.        float64\n",
      "Granules Pharmaceuticals Inc.        float64\n",
      "Granules Pharmaceuticals Inc.        float64\n",
      "Length: 974, dtype: object\n"
     ]
    }
   ],
   "source": [
    "print(rx_df.dtypes)"
   ]
  },
  {
   "cell_type": "code",
   "execution_count": 20,
   "id": "84c7ea09",
   "metadata": {},
   "outputs": [
    {
     "data": {
      "image/png": "[encoded data removed]",
      "text/plain": [
       "<Figure size 720x576 with 1 Axes>"
      ]
     },
     "metadata": {},
     "output_type": "display_data"
    }
   ],
   "source": [
    "# creating ACF to determine ARCH model parameter\n",
    "plot_acf(X_test)\n",
    "plt.show()\n",
    "\n",
    "# this shows positive correlation in variance to 10 lag time steps for the train set"
   ]
  },
  {
   "cell_type": "code",
   "execution_count": 36,
   "id": "c58e539a",
   "metadata": {},
   "outputs": [
    {
     "name": "stdout",
     "output_type": "stream",
     "text": [
      "Iteration:      1,   Func. Count:     13,   Neg. LLF: 10212.800640172212\n",
      "Iteration:      2,   Func. Count:     29,   Neg. LLF: 10198.165746206852\n",
      "Iteration:      3,   Func. Count:     41,   Neg. LLF: 10198.149383659871\n",
      "Iteration:      4,   Func. Count:     53,   Neg. LLF: 10198.145483229748\n",
      "Iteration:      5,   Func. Count:     65,   Neg. LLF: 10197.800723700399\n",
      "Iteration:      6,   Func. Count:     77,   Neg. LLF: 10197.805686368154\n",
      "Iteration:      7,   Func. Count:     90,   Neg. LLF: 10211.967340130526\n",
      "Iteration:      8,   Func. Count:    104,   Neg. LLF: 10197.747441801836\n",
      "Iteration:      9,   Func. Count:    115,   Neg. LLF: 10197.747448014974\n",
      "Optimization terminated successfully    (Exit mode 0)\n",
      "            Current function value: 10197.747441801836\n",
      "            Iterations: 13\n",
      "            Function evaluations: 115\n",
      "            Gradient evaluations: 9\n"
     ]
    }
   ],
   "source": [
    "# creating ARCH Model\n",
    "from arch import arch_model\n",
    "\n",
    "model = arch_model(X_train, mean = 'Zero', vol = 'ARCH', p = 10, rescale = 'TRUE')\n",
    "model_fit = model.fit()\n",
    "\n",
    "# forecast\n",
    "forecasts = model_fit.forecast(horizon = 100, reindex = 'FALSE')"
   ]
  },
  {
   "cell_type": "code",
   "execution_count": 37,
   "id": "c481e539",
   "metadata": {},
   "outputs": [
    {
     "name": "stdout",
     "output_type": "stream",
     "text": [
      "                        Zero Mean - ARCH Model Results                        \n",
      "==============================================================================\n",
      "Dep. Variable:                    WAC   R-squared:                       0.000\n",
      "Mean Model:                 Zero Mean   Adj. R-squared:                  0.001\n",
      "Vol Model:                       ARCH   Log-Likelihood:               -10197.7\n",
      "Distribution:                  Normal   AIC:                           20417.5\n",
      "Method:            Maximum Likelihood   BIC:                           20468.0\n",
      "                                        No. Observations:                  730\n",
      "Date:                Wed, Jun 15 2022   Df Residuals:                      730\n",
      "Time:                        19:44:26   Df Model:                            0\n",
      "                               Volatility Model                              \n",
      "=============================================================================\n",
      "                 coef    std err          t      P>|t|       95.0% Conf. Int.\n",
      "-----------------------------------------------------------------------------\n",
      "omega      7.1876e+10  1.657e+10      4.337  1.445e-05  [3.939e+10,1.044e+11]\n",
      "alpha[1]       0.0000  5.582e-03      0.000      1.000 [-1.094e-02,1.094e-02]\n",
      "alpha[2]       0.0000  5.870e-03      0.000      1.000 [-1.150e-02,1.150e-02]\n",
      "alpha[3]       0.0000  5.603e-03      0.000      1.000 [-1.098e-02,1.098e-02]\n",
      "alpha[4]       0.0000  5.757e-03      0.000      1.000 [-1.128e-02,1.128e-02]\n",
      "alpha[5]       0.0000  5.784e-03      0.000      1.000 [-1.134e-02,1.134e-02]\n",
      "alpha[6]       0.0000  5.767e-03      0.000      1.000 [-1.130e-02,1.130e-02]\n",
      "alpha[7]       0.0551  6.401e-02      0.861      0.390   [-7.038e-02,  0.181]\n",
      "alpha[8]       0.0000  5.607e-03      0.000      1.000 [-1.099e-02,1.099e-02]\n",
      "alpha[9]       0.0000  5.627e-03      0.000      1.000 [-1.103e-02,1.103e-02]\n",
      "alpha[10]      0.0000  5.604e-03      0.000      1.000 [-1.098e-02,1.098e-02]\n",
      "=============================================================================\n",
      "\n",
      "Covariance estimator: robust\n"
     ]
    }
   ],
   "source": [
    "# Display Model Fitting Summary\n",
    "print(model_fit.summary())"
   ]
  },
  {
   "cell_type": "code",
   "execution_count": 38,
   "id": "901d69be",
   "metadata": {},
   "outputs": [
    {
     "name": "stdout",
     "output_type": "stream",
     "text": [
      "Iteration:      4,   Func. Count:     94,   Neg. LLF: 10291.923861505406\n",
      "Iteration:      8,   Func. Count:    185,   Neg. LLF: 10160.947204154665\n",
      "Iteration:     12,   Func. Count:    277,   Neg. LLF: 10200.271517943975\n",
      "Iteration:     16,   Func. Count:    369,   Neg. LLF: 10138.360153821886\n",
      "Iteration:     20,   Func. Count:    461,   Neg. LLF: 10144.086917353776\n",
      "Iteration:     24,   Func. Count:    555,   Neg. LLF: 10518.834541839435\n",
      "Optimization terminated successfully    (Exit mode 0)\n",
      "            Current function value: 10137.12267457643\n",
      "            Iterations: 30\n",
      "            Function evaluations: 611\n",
      "            Gradient evaluations: 26\n"
     ]
    }
   ],
   "source": [
    "# Creating the GARCH Model\n",
    "Gmodel = arch_model(X_train, mean = 'Zero', vol = 'GARCH', p = 10, q = 10, rescale = 'TRUE', dist = 'normal')\n",
    "Gmodel_fit = Gmodel.fit(update_freq = 4)\n",
    "\n",
    "# forecast\n",
    "Gforecasts = Gmodel_fit.forecast(horizon = 100, reindex = 'FALSE')"
   ]
  },
  {
   "cell_type": "code",
   "execution_count": 39,
   "id": "3533d9f9",
   "metadata": {},
   "outputs": [
    {
     "name": "stdout",
     "output_type": "stream",
     "text": [
      "                       Zero Mean - GARCH Model Results                        \n",
      "==============================================================================\n",
      "Dep. Variable:                    WAC   R-squared:                       0.000\n",
      "Mean Model:                 Zero Mean   Adj. R-squared:                  0.001\n",
      "Vol Model:                      GARCH   Log-Likelihood:               -10137.1\n",
      "Distribution:                  Normal   AIC:                           20316.2\n",
      "Method:            Maximum Likelihood   BIC:                           20412.7\n",
      "                                        No. Observations:                  730\n",
      "Date:                Wed, Jun 15 2022   Df Residuals:                      730\n",
      "Time:                        19:44:27   Df Model:                            0\n",
      "                               Volatility Model                              \n",
      "=============================================================================\n",
      "                 coef    std err          t      P>|t|       95.0% Conf. Int.\n",
      "-----------------------------------------------------------------------------\n",
      "omega      8.2076e+09  1.404e+10      0.584      0.559 [-1.931e+10,3.573e+10]\n",
      "alpha[1]   3.7865e-10  1.215e-02  3.116e-08      1.000 [-2.382e-02,2.382e-02]\n",
      "alpha[2]   1.3628e-10  2.201e-02  6.191e-09      1.000 [-4.315e-02,4.315e-02]\n",
      "alpha[3]   2.4945e-10  1.878e-02  1.328e-08      1.000 [-3.680e-02,3.680e-02]\n",
      "alpha[4]   3.2496e-10  2.502e-02  1.299e-08      1.000 [-4.904e-02,4.904e-02]\n",
      "alpha[5]   3.1452e-10  1.567e-02  2.007e-08      1.000 [-3.071e-02,3.071e-02]\n",
      "alpha[6]   1.7896e-10  5.016e-02  3.568e-09      1.000 [-9.831e-02,9.831e-02]\n",
      "alpha[7]       0.1503      0.170      0.883      0.377      [ -0.183,  0.484]\n",
      "alpha[8]   3.2665e-10      0.163  2.000e-09      1.000      [ -0.320,  0.320]\n",
      "alpha[9]   2.7802e-10  8.084e-02  3.439e-09      1.000      [ -0.158,  0.158]\n",
      "alpha[10]  3.5429e-10  7.178e-02  4.936e-09      1.000      [ -0.141,  0.141]\n",
      "beta[1]    1.0247e-10      1.149  8.918e-11      1.000      [ -2.252,  2.252]\n",
      "beta[2]    8.9781e-11      0.357  2.516e-10      1.000      [ -0.699,  0.699]\n",
      "beta[3]    1.2974e-10      0.438  2.964e-10      1.000      [ -0.858,  0.858]\n",
      "beta[4]        0.2673      0.620      0.431      0.666      [ -0.948,  1.482]\n",
      "beta[5]    6.8420e-11      0.262  2.616e-10      1.000      [ -0.513,  0.513]\n",
      "beta[6]    7.6970e-11      0.274  2.812e-10      1.000      [ -0.536,  0.536]\n",
      "beta[7]    9.7961e-11      0.245  3.991e-10      1.000      [ -0.481,  0.481]\n",
      "beta[8]    2.6566e-11      0.452  5.881e-11      1.000      [ -0.885,  0.885]\n",
      "beta[9]        0.5057      0.177      2.851  4.358e-03      [  0.158,  0.853]\n",
      "beta[10]   7.3814e-11      0.857  8.614e-11      1.000      [ -1.679,  1.679]\n",
      "=============================================================================\n",
      "\n",
      "Covariance estimator: robust\n"
     ]
    }
   ],
   "source": [
    "# Display Model Fitting Summary\n",
    "print(Gmodel_fit.summary())"
   ]
  },
  {
   "cell_type": "code",
   "execution_count": 40,
   "id": "8c328f48",
   "metadata": {},
   "outputs": [
    {
     "name": "stderr",
     "output_type": "stream",
     "text": [
      "C:\\Users\\nickl\\AppData\\Roaming\\Python\\Python39\\site-packages\\seaborn\\distributions.py:2619: FutureWarning: `distplot` is a deprecated function and will be removed in a future version. Please adapt your code to use either `displot` (a figure-level function with similar flexibility) or `histplot` (an axes-level function for histograms).\n",
      "  warnings.warn(msg, FutureWarning)\n"
     ]
    },
    {
     "data": {
      "image/png": "[encoded data removed]",
      "text/plain": [
       "<Figure size 504x288 with 1 Axes>"
      ]
     },
     "metadata": {},
     "output_type": "display_data"
    }
   ],
   "source": [
    "from scipy import stats\n",
    "from scipy.stats import probplot, moment\n",
    "# Obtain model estimated residuals and volatility\n",
    "g_resid = Gmodel_fit.resid\n",
    "g_std = Gmodel_fit.conditional_volatility\n",
    "\n",
    "# Calculate the standardized residuals\n",
    "g_std_resid = g_resid /g_std\n",
    "\n",
    "# Plot the histogram of the standardized residuals\n",
    "plt.figure(figsize=(7,4))\n",
    "sns.distplot(g_std_resid, norm_hist=True, fit=stats.norm, bins=50, color='r')\n",
    "plt.legend(('normal', 'standardized residuals'))\n",
    "plt.show()"
   ]
  },
  {
   "cell_type": "code",
   "execution_count": 41,
   "id": "8eb66aa7",
   "metadata": {},
   "outputs": [
    {
     "data": {
      "image/png": "[encoded data removed]",
      "text/plain": [
       "<Figure size 720x576 with 1 Axes>"
      ]
     },
     "metadata": {},
     "output_type": "display_data"
    }
   ],
   "source": [
    "# plotting predicted variance of ARCH and GARCH Models\n",
    "plt.plot(forecasts.variance.values[-1,:], color = 'blue', label = 'ARCH Variance')\n",
    "plt.plot(Gforecasts.variance.values[-1,:], color = 'orange', label = 'GARCH Variance')\n",
    "plt.legend()\n",
    "plt.show()"
   ]
  },
  {
   "cell_type": "code",
   "execution_count": null,
   "id": "32e2591d",
   "metadata": {},
   "outputs": [],
   "source": [
    "#create a KNN\n",
    "from sklearn.neighbors import KNeighborsClassifier\n",
    "knn = KNeighborsClassifier(n_neighbors=5)"
   ]
  },
  {
   "cell_type": "code",
   "execution_count": null,
   "id": "507043eb",
   "metadata": {},
   "outputs": [],
   "source": [
    "knn.fit(X_train, y_train)"
   ]
  },
  {
   "cell_type": "code",
   "execution_count": null,
   "id": "5ddbaa8e",
   "metadata": {},
   "outputs": [],
   "source": [
    "print(\"Test set predictions:\", knn.predict(X_test))"
   ]
  },
  {
   "cell_type": "code",
   "execution_count": null,
   "id": "d732aa8a",
   "metadata": {},
   "outputs": [],
   "source": [
    "print(\"Test Accuracy: {:.2f}\".format(knn.score(X_test, y_test)))"
   ]
  },
  {
   "cell_type": "code",
   "execution_count": null,
   "id": "4c71bf76",
   "metadata": {},
   "outputs": [],
   "source": [
    "import matplotlib.pyplot as plt\n",
    "plt.style.use('ggplot')\n",
    "\n",
    "import pandas as pd\n",
    "import numpy as np\n",
    "import re"
   ]
  },
  {
   "cell_type": "code",
   "execution_count": null,
   "id": "bf027b4b",
   "metadata": {},
   "outputs": [],
   "source": [
    "#Heatmap\n",
    "corr = rpx.corr()\n",
    "\n",
    "corr.style.background_gradient(cmap='coolwarm')"
   ]
  },
  {
   "cell_type": "code",
   "execution_count": null,
   "id": "c2013dfe",
   "metadata": {},
   "outputs": [],
   "source": [
    "rpx_tp = rpx.nlargest(10, ['NDC'])"
   ]
  },
  {
   "cell_type": "code",
   "execution_count": null,
   "id": "ac61bf55",
   "metadata": {},
   "outputs": [],
   "source": [
    "from sklearn.preprocessing import LabelEncoder\n",
    "from sklearn.preprocessing import MinMaxScaler\n",
    " \n",
    "# convert series to supervised learning\n",
    "def series_to_supervised(data, n_in=1, n_out=1, dropnan=True):\n",
    "\tn_vars = 1 if type(data) is list else data.shape[1]\n",
    "\tdf = pd.DataFrame(data)\n",
    "\tcols, names = list(), list()\n",
    "\t# input sequence (t-n, ... t-1)\n",
    "\tfor i in range(n_in, 0, -1):\n",
    "\t\tcols.append(df.shift(i))\n",
    "\t\tnames += [('var%d(t-%d)' % (j+1, i)) for j in range(n_vars)]\n",
    "\t# forecast sequence (t, t+1, ... t+n)\n",
    "\tfor i in range(0, n_out):\n",
    "\t\tcols.append(df.shift(-i))\n",
    "\t\tif i == 0:\n",
    "\t\t\tnames += [('var%d(t)' % (j+1)) for j in range(n_vars)]\n",
    "\t\telse:\n",
    "\t\t\tnames += [('var%d(t+%d)' % (j+1, i)) for j in range(n_vars)]\n",
    "\t# put it all together\n",
    "\tagg = pd.concat(cols, axis=1)\n",
    "\tagg.columns = names\n",
    "\t# drop rows with NaN values\n",
    "\tif dropnan:\n",
    "\t\tagg.dropna(inplace=True)\n",
    "\treturn agg\n",
    "\n",
    "values=rpx.values\n",
    "# integer encode direction\n",
    "encoder = LabelEncoder()\n",
    "values[:,0] = encoder.fit_transform(values[:,0])\n",
    "# ensure all data is float\n",
    "values = values.astype('float64')\n",
    "# normalize features\n",
    "scaler = MinMaxScaler(feature_range=(0, 1))\n",
    "scaled = scaler.fit_transform(values)\n",
    "# frame as supervised learning\n",
    "reframed = series_to_supervised(scaled, 1, 1) \n",
    "print(reframed.head())"
   ]
  },
  {
   "cell_type": "code",
   "execution_count": null,
   "id": "a775c59d",
   "metadata": {},
   "outputs": [],
   "source": [
    "# split into train and test sets\n",
    "values = reframed.values\n",
    "n_train_days = 365 \n",
    "train = values[:n_train_days, :]\n",
    "test = values[n_train_days:, :]\n",
    "# split into input and outputs\n",
    "train_X, train_y = train[:, :-1], train[:, -1]\n",
    "test_X, test_y = test[:, :-1], test[:, -1]\n",
    "# reshape input to be 3D [samples, timesteps, features]\n",
    "train_X = train_X.reshape((train_X.shape[0], 1, train_X.shape[1]))\n",
    "test_X = test_X.reshape((test_X.shape[0], 1, test_X.shape[1]))\n",
    "print(train_X.shape, train_y.shape, test_X.shape, test_y.shape)"
   ]
  },
  {
   "cell_type": "code",
   "execution_count": null,
   "id": "45467151",
   "metadata": {},
   "outputs": [],
   "source": [
    "from matplotlib import pyplot\n",
    "from keras.models import Sequential\n",
    "from keras.layers import Dense\n",
    "from keras.layers import LSTM\n",
    "# design network\n",
    "model = Sequential()\n",
    "model.add(LSTM(50, input_shape=(train_X.shape[1], train_X.shape[2])))\n",
    "model.add(Dense(1))\n",
    "model.compile(loss='mae', optimizer='adam')\n",
    "# fit network\n",
    "history = model.fit(train_X, train_y, epochs=50, batch_size=72, validation_data=(test_X, test_y), verbose=2, shuffle=False)\n",
    "# plot history\n",
    "pyplot.plot(history.history['loss'], label='train')\n",
    "pyplot.plot(history.history['val_loss'], label='test')\n",
    "pyplot.legend()\n",
    "pyplot.show()"
   ]
  },
  {
   "cell_type": "code",
   "execution_count": null,
   "id": "bd0b0319",
   "metadata": {},
   "outputs": [],
   "source": [
    "from math import sqrt\n",
    "from numpy import concatenate\n",
    "from sklearn.metrics import mean_squared_error\n",
    "# make a prediction\n",
    "yhat = model.predict(test_X)\n",
    "test_X = test_X.reshape((test_X.shape[0], test_X.shape[2]))\n",
    "# invert scaling for forecast\n",
    "inv_yhat = concatenate((yhat, test_X[:, 3:]), axis=1)\n",
    "inv_yhat = scaler.inverse_transform(inv_yhat)\n",
    "inv_yhat = inv_yhat[:,0]\n",
    "# invert scaling for actual\n",
    "test_y = test_y.reshape((len(test_y), 1))\n",
    "inv_y = concatenate((test_y, test_X[:, 3:]), axis=1)\n",
    "inv_y = scaler.inverse_transform(inv_y)\n",
    "inv_y = inv_y[:,0]\n",
    "# calculate RMSE\n",
    "rmse = sqrt(mean_squared_error(inv_y, inv_yhat))\n",
    "print('Test RMSE: %.3f' % rmse)"
   ]
  },
  {
   "cell_type": "code",
   "execution_count": null,
   "id": "28039507",
   "metadata": {},
   "outputs": [],
   "source": []
  },
  {
   "cell_type": "code",
   "execution_count": null,
   "id": "c26af57d",
   "metadata": {},
   "outputs": [],
   "source": []
  },
  {
   "cell_type": "code",
   "execution_count": null,
   "id": "7b0b7fef",
   "metadata": {},
   "outputs": [],
   "source": []
  },
  {
   "cell_type": "code",
   "execution_count": null,
   "id": "fb8e7b77",
   "metadata": {},
   "outputs": [],
   "source": []
  },
  {
   "cell_type": "code",
   "execution_count": null,
   "id": "53f25ac3",
   "metadata": {},
   "outputs": [],
   "source": []
  },
  {
   "cell_type": "code",
   "execution_count": null,
   "id": "753f0829",
   "metadata": {},
   "outputs": [],
   "source": []
  },
  {
   "cell_type": "code",
   "execution_count": null,
   "id": "3860e958",
   "metadata": {},
   "outputs": [],
   "source": []
  },
  {
   "cell_type": "code",
   "execution_count": null,
   "id": "1588b916",
   "metadata": {},
   "outputs": [],
   "source": []
  }
 ],
 "metadata": {
  "kernelspec": {
   "display_name": "Python 3 (ipykernel)",
   "language": "python",
   "name": "python3"
  },
  "language_info": {
   "codemirror_mode": {
    "name": "ipython",
    "version": 3
   },
   "file_extension": ".py",
   "mimetype": "text/x-python",
   "name": "python",
   "nbconvert_exporter": "python",
   "pygments_lexer": "ipython3",
   "version": "3.9.12"
  }
 },
 "nbformat": 4,
 "nbformat_minor": 5
}
